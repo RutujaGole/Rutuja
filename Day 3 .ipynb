{
 "cells": [
  {
   "cell_type": "code",
   "execution_count": 6,
   "id": "3a02d4df",
   "metadata": {},
   "outputs": [],
   "source": [
    "import pandas as pd\n",
    "import numpy as np\n"
   ]
  },
  {
   "cell_type": "code",
   "execution_count": 8,
   "id": "1e8151b9",
   "metadata": {},
   "outputs": [
    {
     "name": "stdout",
     "output_type": "stream",
     "text": [
      "[[-0.48469075  0.85378339 -0.78624862]\n",
      " [ 1.18600129  0.46169729  0.22127976]]\n"
     ]
    }
   ],
   "source": [
    "from numpy import random\n",
    "\n",
    "x = random.normal(size=(2, 3))\n",
    "\n",
    "print(x)\n"
   ]
  },
  {
   "cell_type": "code",
   "execution_count": 9,
   "id": "4b28ca4e",
   "metadata": {},
   "outputs": [
    {
     "data": {
      "text/plain": [
       "array([[-9.14900165,  3.15065516,  3.03299425,  2.51101215,  9.02193909,\n",
       "         0.6132591 ,  0.42199113],\n",
       "       [-3.13283006, -3.37308312,  3.75566324, -7.0713491 ,  1.3949976 ,\n",
       "        12.70201214, -0.31101441],\n",
       "       [ 2.71741409,  2.81475253, -3.30568811, -0.36368797, 10.0928385 ,\n",
       "        -2.94148896,  1.47631199],\n",
       "       [-3.08286526,  5.14138268, -2.89107383,  2.35413326, -0.39009165,\n",
       "        10.65341178,  9.51994449],\n",
       "       [ 6.80945207,  4.37974769,  5.62377513,  1.30164407,  5.32580239,\n",
       "         2.62200966,  3.48872543],\n",
       "       [ 6.88022167,  3.57947667,  8.74607417, -2.13587238, -1.76017289,\n",
       "        -4.9755149 ,  8.6446219 ]])"
      ]
     },
     "execution_count": 9,
     "metadata": {},
     "output_type": "execute_result"
    }
   ],
   "source": [
    "y = random.normal(loc = 2, scale = 5, size = (6,7))\n",
    "y"
   ]
  },
  {
   "cell_type": "code",
   "execution_count": 13,
   "id": "1a675deb",
   "metadata": {},
   "outputs": [
    {
     "name": "stdout",
     "output_type": "stream",
     "text": [
      "2.2355364234257324 2.56651090273784 2.56651090273784\n"
     ]
    }
   ],
   "source": [
    "import numpy as np\n",
    "m1 = np.mean(y)\n",
    "m2 = np.median(y)\n",
    "m3 = np.median(y)\n",
    "\n",
    "print(m1, m2, m3)"
   ]
  },
  {
   "cell_type": "code",
   "execution_count": 11,
   "id": "16963e20",
   "metadata": {},
   "outputs": [],
   "source": [
    "import matplotlib.pyplot as plt\n",
    "import seaborn as sns"
   ]
  },
  {
   "cell_type": "code",
   "execution_count": 13,
   "id": "a9db25c3",
   "metadata": {},
   "outputs": [
    {
     "name": "stderr",
     "output_type": "stream",
     "text": [
      "C:\\Users\\rrajeshgole\\Anaconda3\\lib\\site-packages\\seaborn\\distributions.py:2619: FutureWarning: `distplot` is a deprecated function and will be removed in a future version. Please adapt your code to use either `displot` (a figure-level function with similar flexibility) or `histplot` (an axes-level function for histograms).\n",
      "  warnings.warn(msg, FutureWarning)\n"
     ]
    },
    {
     "data": {
      "image/png": "[encoded data removed]",
      "text/plain": [
       "<Figure size 432x288 with 1 Axes>"
      ]
     },
     "metadata": {
      "needs_background": "light"
     },
     "output_type": "display_data"
    }
   ],
   "source": [
    "import matplotlib.pyplot as plt\n",
    "import seaborn as sns\n",
    "sns.distplot(random.normal(size=(42)))\n",
    "plt.show()"
   ]
  },
  {
   "cell_type": "code",
   "execution_count": null,
   "id": "dc77e9d4",
   "metadata": {},
   "outputs": [],
   "source": []
  },
  {
   "cell_type": "code",
   "execution_count": 16,
   "id": "a4355f5b",
   "metadata": {},
   "outputs": [],
   "source": [
    "z = pd.DataFrame(y).to_csv(\"Normal Gaussian\")"
   ]
  },
  {
   "cell_type": "code",
   "execution_count": 19,
   "id": "b4b88844",
   "metadata": {},
   "outputs": [
    {
     "data": {
      "text/html": [
       "<div>\n",
       "<style scoped>\n",
       "    .dataframe tbody tr th:only-of-type {\n",
       "        vertical-align: middle;\n",
       "    }\n",
       "\n",
       "    .dataframe tbody tr th {\n",
       "        vertical-align: top;\n",
       "    }\n",
       "\n",
       "    .dataframe thead th {\n",
       "        text-align: right;\n",
       "    }\n",
       "</style>\n",
       "<table border=\"1\" class=\"dataframe\">\n",
       "  <thead>\n",
       "    <tr style=\"text-align: right;\">\n",
       "      <th></th>\n",
       "      <th>Unnamed: 0</th>\n",
       "      <th>0</th>\n",
       "      <th>1</th>\n",
       "      <th>2</th>\n",
       "      <th>3</th>\n",
       "      <th>4</th>\n",
       "      <th>5</th>\n",
       "      <th>6</th>\n",
       "    </tr>\n",
       "  </thead>\n",
       "  <tbody>\n",
       "    <tr>\n",
       "      <th>0</th>\n",
       "      <td>0</td>\n",
       "      <td>-9.149002</td>\n",
       "      <td>3.150655</td>\n",
       "      <td>3.032994</td>\n",
       "      <td>2.511012</td>\n",
       "      <td>9.021939</td>\n",
       "      <td>0.613259</td>\n",
       "      <td>0.421991</td>\n",
       "    </tr>\n",
       "    <tr>\n",
       "      <th>1</th>\n",
       "      <td>1</td>\n",
       "      <td>-3.132830</td>\n",
       "      <td>-3.373083</td>\n",
       "      <td>3.755663</td>\n",
       "      <td>-7.071349</td>\n",
       "      <td>1.394998</td>\n",
       "      <td>12.702012</td>\n",
       "      <td>-0.311014</td>\n",
       "    </tr>\n",
       "    <tr>\n",
       "      <th>2</th>\n",
       "      <td>2</td>\n",
       "      <td>2.717414</td>\n",
       "      <td>2.814753</td>\n",
       "      <td>-3.305688</td>\n",
       "      <td>-0.363688</td>\n",
       "      <td>10.092838</td>\n",
       "      <td>-2.941489</td>\n",
       "      <td>1.476312</td>\n",
       "    </tr>\n",
       "    <tr>\n",
       "      <th>3</th>\n",
       "      <td>3</td>\n",
       "      <td>-3.082865</td>\n",
       "      <td>5.141383</td>\n",
       "      <td>-2.891074</td>\n",
       "      <td>2.354133</td>\n",
       "      <td>-0.390092</td>\n",
       "      <td>10.653412</td>\n",
       "      <td>9.519944</td>\n",
       "    </tr>\n",
       "    <tr>\n",
       "      <th>4</th>\n",
       "      <td>4</td>\n",
       "      <td>6.809452</td>\n",
       "      <td>4.379748</td>\n",
       "      <td>5.623775</td>\n",
       "      <td>1.301644</td>\n",
       "      <td>5.325802</td>\n",
       "      <td>2.622010</td>\n",
       "      <td>3.488725</td>\n",
       "    </tr>\n",
       "    <tr>\n",
       "      <th>5</th>\n",
       "      <td>5</td>\n",
       "      <td>6.880222</td>\n",
       "      <td>3.579477</td>\n",
       "      <td>8.746074</td>\n",
       "      <td>-2.135872</td>\n",
       "      <td>-1.760173</td>\n",
       "      <td>-4.975515</td>\n",
       "      <td>8.644622</td>\n",
       "    </tr>\n",
       "  </tbody>\n",
       "</table>\n",
       "</div>"
      ],
      "text/plain": [
       "   Unnamed: 0         0         1         2         3          4          5  \\\n",
       "0           0 -9.149002  3.150655  3.032994  2.511012   9.021939   0.613259   \n",
       "1           1 -3.132830 -3.373083  3.755663 -7.071349   1.394998  12.702012   \n",
       "2           2  2.717414  2.814753 -3.305688 -0.363688  10.092838  -2.941489   \n",
       "3           3 -3.082865  5.141383 -2.891074  2.354133  -0.390092  10.653412   \n",
       "4           4  6.809452  4.379748  5.623775  1.301644   5.325802   2.622010   \n",
       "5           5  6.880222  3.579477  8.746074 -2.135872  -1.760173  -4.975515   \n",
       "\n",
       "          6  \n",
       "0  0.421991  \n",
       "1 -0.311014  \n",
       "2  1.476312  \n",
       "3  9.519944  \n",
       "4  3.488725  \n",
       "5  8.644622  "
      ]
     },
     "execution_count": 19,
     "metadata": {},
     "output_type": "execute_result"
    }
   ],
   "source": [
    "pd.read_csv(\"Normal Gaussian\")"
   ]
  },
  {
   "cell_type": "code",
   "execution_count": 21,
   "id": "310750f3",
   "metadata": {},
   "outputs": [
    {
     "name": "stdout",
     "output_type": "stream",
     "text": [
      "1.6448536269514722\n"
     ]
    }
   ],
   "source": [
    "#z score of the distribution\n",
    "\n",
    "from scipy.stats import norm\n",
    "p=.95\n",
    "value=norm.ppf(p)\n",
    "print(value)"
   ]
  },
  {
   "cell_type": "code",
   "execution_count": 6,
   "id": "c237a3cb",
   "metadata": {},
   "outputs": [
    {
     "name": "stdout",
     "output_type": "stream",
     "text": [
      "Citical value 1.5671332880325335 P-value 0.11708353981063808\n",
      "we are accepting null hypothesis\n"
     ]
    }
   ],
   "source": [
    "from statsmodels.stats.weightstats import ztest as ztest\n",
    "data = (1,2,3,4,5,6,7,8,9,1,2,12,12,33,44,44,55,666,77,66,33,33,34,66,77,77,88,99,33,545,65,545,65,65,76,8788,78,8767,76,67,65,56)\n",
    "len(data)\n",
    "\n",
    "x,y=ztest(data, value=42)\n",
    "print(\"Citical value\", x, \"P-value\", y)\n",
    "\n",
    "if y < 0.05:    # alpha value is 0.05 or 5%\n",
    "   print(\" we are rejecting null hypothesis\")\n",
    "else:\n",
    "  print(\"we are accepting null hypothesis\")"
   ]
  },
  {
   "cell_type": "code",
   "execution_count": 1,
   "id": "6637028c",
   "metadata": {},
   "outputs": [
    {
     "name": "stdout",
     "output_type": "stream",
     "text": [
      "[32 34 29 29 22 39 38 37 38 36 30 26 22 22]\n",
      "31.0\n",
      "p-values 0.5605155888171379\n",
      "we are accepting null hypothesis\n"
     ]
    }
   ],
   "source": [
    "from scipy.stats import ttest_1samp\n",
    "import numpy as np\n",
    "\n",
    "#10 ages and you are checking whether avg age is 30 or not.\n",
    "#H0: The average age is 30\n",
    "#H1: The average age is not 30.\n",
    "ages = np.array([32,34,29,29,22,39,38,37,38,36,30,26,22,22])\n",
    "print(ages)\n",
    "#mean of the age \n",
    "ages_mean = np.mean(ages)\n",
    "print(ages_mean)\n",
    "#One Sample t-test\n",
    "tset, pval = ttest_1samp(ages, 30)\n",
    "print('p-values',pval)\n",
    "if pval < 0.05:    # alpha value is 0.05 or 5%\n",
    "   print(\" we are rejecting null hypothesis\")\n",
    "else:\n",
    "  print(\"we are accepting null hypothesis\")\n"
   ]
  },
  {
   "cell_type": "code",
   "execution_count": 10,
   "id": "c8bf6c11",
   "metadata": {},
   "outputs": [],
   "source": [
    "age_x=[25,26,27,29,33,32,35,28,35,39]\n",
    "devop=[3525,3326,3627,3129,3633,3032,3115,3628,3435,3009]\n",
    "javadop=[4525,5326,5627,5129,5633,5032,6115,6628,6435,6009]\n",
    "age_x.sort()\n",
    "devop.sort()\n",
    "javadop.sort()\n"
   ]
  },
  {
   "cell_type": "code",
   "execution_count": 14,
   "id": "84bb78f1",
   "metadata": {
    "scrolled": true
   },
   "outputs": [
    {
     "data": {
      "text/plain": [
       "<matplotlib.legend.Legend at 0x14fae1ca820>"
      ]
     },
     "execution_count": 14,
     "metadata": {},
     "output_type": "execute_result"
    },
    {
     "data": {
      "image/png": "[encoded data removed]",
      "text/plain": [
       "<Figure size 432x288 with 1 Axes>"
      ]
     },
     "metadata": {
      "needs_background": "light"
     },
     "output_type": "display_data"
    }
   ],
   "source": [
    "from matplotlib import pyplot as plt\n",
    "plt.style.available\n",
    "\n",
    "plt.plot(age_x,devop,label=\"All devep\")\n",
    "plt.plot(age_x,javadop,label=\"All Java \")\n",
    "plt.xlabel(\"Ages\")\n",
    "plt.ylabel(\"Median Salary (USD)\")\n",
    "plt.legend()\n"
   ]
  },
  {
   "cell_type": "code",
   "execution_count": 20,
   "id": "901838f6",
   "metadata": {},
   "outputs": [],
   "source": [
    "age1 = np.random.normal([60, 50, 22])\n",
    "salary2 = np.random.normal([4000, 5000, 6000])\n",
    "salary3 = np.random.normal([7000, 8000, 9000])\n",
    "\n",
    "age1.sort()\n",
    "salary2.sort()\n",
    "salary3.sort()\n"
   ]
  },
  {
   "cell_type": "code",
   "execution_count": 21,
   "id": "4327498f",
   "metadata": {},
   "outputs": [
    {
     "data": {
      "text/plain": [
       "<matplotlib.legend.Legend at 0x14fae36aee0>"
      ]
     },
     "execution_count": 21,
     "metadata": {},
     "output_type": "execute_result"
    },
    {
     "data": {
      "image/png": "[encoded data removed]",
      "text/plain": [
       "<Figure size 432x288 with 1 Axes>"
      ]
     },
     "metadata": {
      "needs_background": "light"
     },
     "output_type": "display_data"
    }
   ],
   "source": [
    "plt.plot(age1,salary2,label=\"All salary1\")\n",
    "plt.plot(age1,salary3,label=\"All salary2 \")\n",
    "plt.xlabel(\"Ages\")\n",
    "plt.ylabel(\"Median Salary (USD)\")\n",
    "plt.legend()"
   ]
  },
  {
   "cell_type": "code",
   "execution_count": 19,
   "id": "42bd73ea",
   "metadata": {},
   "outputs": [
    {
     "data": {
      "text/plain": [
       "array([4001.26147698, 5001.13608747, 6000.32964122])"
      ]
     },
     "execution_count": 19,
     "metadata": {},
     "output_type": "execute_result"
    }
   ],
   "source": [
    "salary2[0:10]"
   ]
  },
  {
   "cell_type": "code",
   "execution_count": null,
   "id": "042874bd",
   "metadata": {},
   "outputs": [],
   "source": []
  }
 ],
 "metadata": {
  "kernelspec": {
   "display_name": "Python 3 (ipykernel)",
   "language": "python",
   "name": "python3"
  },
  "language_info": {
   "codemirror_mode": {
    "name": "ipython",
    "version": 3
   },
   "file_extension": ".py",
   "mimetype": "text/x-python",
   "name": "python",
   "nbconvert_exporter": "python",
   "pygments_lexer": "ipython3",
   "version": "3.9.12"
  }
 },
 "nbformat": 4,
 "nbformat_minor": 5
}
